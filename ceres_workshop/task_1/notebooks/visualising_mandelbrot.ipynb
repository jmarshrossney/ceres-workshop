{
 "cells": [
  {
   "cell_type": "markdown",
   "id": "0b5b3f9e-6089-47a1-bc39-cdcf0f1a0055",
   "metadata": {},
   "source": [
    "# Visualisations of the Mandelbrot Set"
   ]
  },
  {
   "cell_type": "code",
   "execution_count": null,
   "id": "3911a107-7ed8-4ade-9275-7eb5641d1eeb",
   "metadata": {},
   "outputs": [],
   "source": [
    "# Install a little extension to make our code prettier\n",
    "!pip install nb_black\n",
    "\n",
    "# These are so-called 'magic functions' in IPython\n",
    "%matplotlib inline\n",
    "%load_ext lab_black"
   ]
  },
  {
   "cell_type": "code",
   "execution_count": null,
   "id": "aa763c36-b9dd-48ab-86f9-73a3ad7b6b54",
   "metadata": {},
   "outputs": [],
   "source": [
    "from ceres_workshop.task_1.fractals import Mandelbrot, FEIGENBAUM_DELTA\n",
    "from ceres_workshop.task_1.utils import make_gif, get_quadratic_map_roots"
   ]
  },
  {
   "cell_type": "markdown",
   "id": "261c43fd-0b19-4ce0-8ad9-b0671dc843e5",
   "metadata": {},
   "source": [
    "## Static visualisations"
   ]
  },
  {
   "cell_type": "code",
   "execution_count": null,
   "id": "f34bf1b8-3203-4f1d-8588-55344cace90b",
   "metadata": {},
   "outputs": [],
   "source": [
    "roots = set(\n",
    "    get_quadratic_map_roots(2) + get_quadratic_map_roots(3) + get_quadratic_map_roots(4)\n",
    ")\n",
    "\n",
    "for root in roots:\n",
    "    fig = Mandelbrot(root, 1, 300).get_figure()\n",
    "    fig.gca().scatter([root.real], [root.imag], color=\"r\", marker=\"+\")\n",
    "    fig.set_dpi(100)"
   ]
  },
  {
   "cell_type": "code",
   "execution_count": null,
   "id": "4c6b5cef-8f52-40c2-afda-ed69631e4f65",
   "metadata": {},
   "outputs": [],
   "source": [
    "centre = complex(-0.8, 0)\n",
    "extent = 1\n",
    "resolution = 500\n",
    "cmap = \"viridis\"\n",
    "\n",
    "fig = Mandelbrot(centre, extent, resolution).get_figure(cmap)\n",
    "fig.set_dpi(200)  # resize image \"dots per inch\" so we can see more clearly"
   ]
  },
  {
   "cell_type": "code",
   "execution_count": null,
   "id": "5e5991c7-31a0-4fd0-9edb-745c78a91145",
   "metadata": {},
   "outputs": [],
   "source": [
    "# centre = complex(-1.75487766624669, 0)\n",
    "centre = complex(-1.31)\n",
    "# centre = complex(-1, 0)\n",
    "extent = 1 / FEIGENBAUM_DELTA\n",
    "resolution = 500\n",
    "\n",
    "fig = Mandelbrot(centre, extent, resolution).get_figure()\n",
    "fig.set_dpi(200)  # resize image \"dots per inch\" so we can see more clearly"
   ]
  },
  {
   "cell_type": "markdown",
   "id": "b3dcb5e7-a56a-4f19-80d5-b514f5dfb465",
   "metadata": {},
   "source": [
    "## Animations"
   ]
  },
  {
   "cell_type": "code",
   "execution_count": null,
   "id": "7cae0379-4871-432c-8afb-2074226d7c5f",
   "metadata": {},
   "outputs": [],
   "source": [
    "centre = -1.4011551890\n",
    "resolution = 100\n",
    "\n",
    "n_fold = 8\n",
    "n_frames = 40\n",
    "factor = math.e * (math.log(FEIGENBAUM_DELTA**n_fold) / n_frames)\n",
    "print(factor)\n",
    "\n",
    "frames = []\n",
    "extent = 1\n",
    "for i in range(n_frames):\n",
    "    extent = extent * factor\n",
    "    frames.append(Mandelbrot(complex(centre), extent, resolution).get_image())\n",
    "\n",
    "make_gif(frames, \"mandelbrot.gif\", 100)"
   ]
  },
  {
   "cell_type": "markdown",
   "id": "73174197-b85f-4696-be1e-7ec82a7de1d9",
   "metadata": {},
   "source": [
    "<div>\n",
    "    <img src=\"mandelbrot.gif\" width=\"300\"/>\n",
    "</div>"
   ]
  },
  {
   "cell_type": "code",
   "execution_count": null,
   "id": "080bc529-ad4c-445d-aecf-1e986182ca95",
   "metadata": {},
   "outputs": [],
   "source": []
  }
 ],
 "metadata": {
  "kernelspec": {
   "display_name": "Python 3 (ipykernel)",
   "language": "python",
   "name": "python3"
  },
  "language_info": {
   "codemirror_mode": {
    "name": "ipython",
    "version": 3
   },
   "file_extension": ".py",
   "mimetype": "text/x-python",
   "name": "python",
   "nbconvert_exporter": "python",
   "pygments_lexer": "ipython3",
   "version": "3.9.13"
  }
 },
 "nbformat": 4,
 "nbformat_minor": 5
}
