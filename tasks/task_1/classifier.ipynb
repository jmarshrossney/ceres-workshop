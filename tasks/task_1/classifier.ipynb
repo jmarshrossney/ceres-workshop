{
 "cells": [
  {
   "cell_type": "markdown",
   "id": "1521d019-938d-40df-8274-812ebd6ae622",
   "metadata": {},
   "source": [
    "# Multi-Layer Perceptron Binary Classifier using Scikit-Learn"
   ]
  },
  {
   "cell_type": "code",
   "execution_count": null,
   "id": "6a20f19b-0a4f-44e1-8364-c485ebcd1ed6",
   "metadata": {},
   "outputs": [],
   "source": [
    "import matplotlib.pyplot as plt\n",
    "import numpy as np\n",
    "from sklearn.neural_network import MLPClassifier\n",
    "from sklearn.model_selection import train_test_split\n",
    "\n",
    "from utils import load_data_from_json, array_to_rgb_image"
   ]
  },
  {
   "cell_type": "code",
   "execution_count": null,
   "id": "7ccbcfe3-40a7-48a3-a499-3378a3fd0ff3",
   "metadata": {},
   "outputs": [],
   "source": [
    "RAW_DATA = load_data_from_json()"
   ]
  },
  {
   "cell_type": "code",
   "execution_count": null,
   "id": "03e33792-0aa5-429c-9f4a-c8a0977e4894",
   "metadata": {},
   "outputs": [],
   "source": [
    "inputs = np.array(RAW_DATA[\"data\"], dtype=float)\n",
    "labels = np.array(RAW_DATA[\"labels\"], dtype=float)\n",
    "\n",
    "# Perform any transformations of the input data here\n",
    "# --------------------------------------------------\n",
    "# inputs = ..."
   ]
  },
  {
   "cell_type": "code",
   "execution_count": null,
   "id": "8b5cf458-3538-41ae-9d70-d255db3b4318",
   "metadata": {},
   "outputs": [],
   "source": [
    "# Bring up the help for MLPClassifier for info on model_args\n",
    "#MLPClassifier?"
   ]
  },
  {
   "cell_type": "code",
   "execution_count": null,
   "id": "b948ff58-20a7-49a3-b668-34bf986db2c9",
   "metadata": {},
   "outputs": [],
   "source": [
    "# Modify the model arguments in the dictionary\n",
    "# --------------------------------------------\n",
    "model_args = {\n",
    "    \"hidden_layer_sizes\": (10,),\n",
    "    \"activation\": \"relu\",\n",
    "    \"batch_size\": 128,\n",
    "    \"max_iter\": 25,\n",
    "    \"shuffle\": True,\n",
    "    \"early_stopping\": False,\n",
    "}"
   ]
  },
  {
   "cell_type": "markdown",
   "id": "79952abc-20d7-49a7-8729-1da59f5cf5f1",
   "metadata": {},
   "source": [
    "## Training\n",
    "\n",
    "The cells below train the model and plot the loss as a function of the number of training epochs.\n",
    "\n",
    "An epoch is defined as one whole pass through the training set."
   ]
  },
  {
   "cell_type": "code",
   "execution_count": null,
   "id": "8930375a-c4f8-4361-affe-e80e782fbca1",
   "metadata": {},
   "outputs": [],
   "source": [
    "X_train, X_test, y_train, y_test = train_test_split(inputs, labels, shuffle=True)\n",
    "\n",
    "model = MLPClassifier(**model_args)\n",
    "trained_model = model.fit(X_train, y_train)"
   ]
  },
  {
   "cell_type": "code",
   "execution_count": null,
   "id": "f5dd1d58-2364-4220-a37c-3841697f776c",
   "metadata": {},
   "outputs": [],
   "source": [
    "fig, ax = plt.subplots()\n",
    "ax.plot(trained_model.loss_curve_, \"o-\")\n",
    "ax.set_xlabel(\"epoch\")\n",
    "ax.set_ylabel(\"train loss\")\n",
    "ax.set_yscale(\"log\")"
   ]
  },
  {
   "cell_type": "markdown",
   "id": "80560a97-02fa-4405-86b0-fe06aec6a123",
   "metadata": {},
   "source": [
    "## Metrics\n",
    "\n",
    "Modify the cells below to compute some more useful classification metrics."
   ]
  },
  {
   "cell_type": "code",
   "execution_count": null,
   "id": "a652338d-3179-4018-9b8f-193fece738f8",
   "metadata": {},
   "outputs": [],
   "source": [
    "from sklearn.metrics import accuracy_score, ConfusionMatrixDisplay"
   ]
  },
  {
   "cell_type": "code",
   "execution_count": null,
   "id": "f5384e7c-b50a-4be2-b397-c12da578e7af",
   "metadata": {},
   "outputs": [],
   "source": [
    "# The predicted class (0 or 1)\n",
    "y_pred_class = trained_model.predict(X_test)\n",
    "\n",
    "# The predicted probability (between 0 and 1)\n",
    "y_pred_prob = trained_model.predict_proba(X_test)[:, 1]"
   ]
  },
  {
   "cell_type": "code",
   "execution_count": null,
   "id": "cfba1ead-2463-4875-b032-a83eeb7a1171",
   "metadata": {},
   "outputs": [],
   "source": [
    "accuracy = accuracy_score(y_test, y_pred_class)\n",
    "f\"The accuracy is: {accuracy}\""
   ]
  },
  {
   "cell_type": "code",
   "execution_count": null,
   "id": "d8d85f87-9155-462d-9eea-a333cca313d0",
   "metadata": {},
   "outputs": [],
   "source": [
    "ConfusionMatrixDisplay.from_predictions(y_test, y_pred_class)"
   ]
  },
  {
   "cell_type": "markdown",
   "id": "418e07a1-761e-4714-96f6-6cdf40f6fb60",
   "metadata": {},
   "source": [
    "## Reproducibility check\n",
    "\n",
    "You should modify the code below so that the training phase is reproducible.\n",
    "\n",
    "To check this, train two identical models, and pass the parameters of the trained models into ``check_parameters_match``.\n",
    "\n",
    "**Hint:** You will need to add an extra argument to ``train_test_split``, as well as ``MLPClassifier``."
   ]
  },
  {
   "cell_type": "code",
   "execution_count": null,
   "id": "13fb0ebb-576b-46bc-865d-f50ddfc6bfee",
   "metadata": {},
   "outputs": [],
   "source": [
    "from utils import check_parameters_match\n",
    "\n",
    "check_parameters_match?"
   ]
  },
  {
   "cell_type": "code",
   "execution_count": null,
   "id": "adc108fe-4d70-4020-ab9a-e1a9a0cf92bd",
   "metadata": {},
   "outputs": [],
   "source": [
    "SEED = 123456789"
   ]
  },
  {
   "cell_type": "code",
   "execution_count": null,
   "id": "425e7816-bd3f-4f8e-9675-7102a41196f7",
   "metadata": {},
   "outputs": [],
   "source": [
    "# FIRST MODEL\n",
    "\n",
    "rng = np.random.RandomState(SEED)\n",
    "\n",
    "X_train, X_test, y_train, y_test = train_test_split(inputs, labels, shuffle=True)\n",
    "\n",
    "model = MLPClassifier(**model_args)\n",
    "\n",
    "trained_model = model.fit(X_train, y_train)\n",
    "\n",
    "parameters_1 = trained_model.coefs_ + trained_model.intercepts_"
   ]
  },
  {
   "cell_type": "code",
   "execution_count": null,
   "id": "d4e6f596-88cf-4f6c-9bef-c30fb1de75cf",
   "metadata": {},
   "outputs": [],
   "source": [
    "# SECOND MODEL\n",
    "\n",
    "rng = np.random.RandomState(SEED)\n",
    "\n",
    "X_train, X_test, y_train, y_test = train_test_split(inputs, labels, shuffle=True)\n",
    "\n",
    "model = MLPClassifier(**model_args)\n",
    "\n",
    "trained_model = model.fit(X_train, y_train)\n",
    "\n",
    "parameters_2 = trained_model.coefs_ + trained_model.intercepts_"
   ]
  },
  {
   "cell_type": "code",
   "execution_count": null,
   "id": "ba041428-ed67-43fa-8dd7-3e895f8af491",
   "metadata": {},
   "outputs": [],
   "source": [
    "assert check_parameters_match(parameters_1, parameters_2), \"Models are not identical!\""
   ]
  },
  {
   "cell_type": "code",
   "execution_count": null,
   "id": "1ecaf54e-89ec-47cb-a542-8e48535a6a3a",
   "metadata": {},
   "outputs": [],
   "source": []
  }
 ],
 "metadata": {
  "kernelspec": {
   "display_name": "Python 3 (ipykernel)",
   "language": "python",
   "name": "python3"
  },
  "language_info": {
   "codemirror_mode": {
    "name": "ipython",
    "version": 3
   },
   "file_extension": ".py",
   "mimetype": "text/x-python",
   "name": "python",
   "nbconvert_exporter": "python",
   "pygments_lexer": "ipython3",
   "version": "3.9.13"
  }
 },
 "nbformat": 4,
 "nbformat_minor": 5
}
