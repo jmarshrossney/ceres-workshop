{
 "cells": [
  {
   "cell_type": "markdown",
   "id": "1521d019-938d-40df-8274-812ebd6ae622",
   "metadata": {
    "tags": []
   },
   "source": [
    "# Multi-Layer Perceptron Binary Classifier using Scikit-Learn"
   ]
  },
  {
   "cell_type": "markdown",
   "id": "ad0c750a-3ff8-4204-88e1-db4493e7f0de",
   "metadata": {
    "tags": []
   },
   "source": [
    "## load"
   ]
  },
  {
   "cell_type": "code",
   "execution_count": 17,
   "id": "6a20f19b-0a4f-44e1-8364-c485ebcd1ed6",
   "metadata": {},
   "outputs": [],
   "source": [
    "import matplotlib.pyplot as plt\n",
    "import numpy as np\n",
    "import pandas as pd\n",
    "from sklearn.neural_network import MLPClassifier\n",
    "from sklearn.model_selection import train_test_split, GridSearchCV\n",
    "from utils import load_data_from_json, array_to_rgb_image"
   ]
  },
  {
   "cell_type": "code",
   "execution_count": 3,
   "id": "03e33792-0aa5-429c-9f4a-c8a0977e4894",
   "metadata": {},
   "outputs": [],
   "source": [
    "RAW_DATA = load_data_from_json('.')\n",
    "inputs = np.array(RAW_DATA[\"data\"], dtype=float)\n",
    "labels = np.array(RAW_DATA[\"labels\"], dtype=float)\n",
    "# Perform any transformations of the input data here\n",
    "# --------------------------------------------------\n",
    "maxval = inputs.max(axis=1)\n",
    "minval = inputs.min(axis = 1)\n",
    "norm01 = (inputs - minval[:, np.newaxis]) / (maxval - minval)[:,np.newaxis]"
   ]
  },
  {
   "cell_type": "markdown",
   "id": "79952abc-20d7-49a7-8729-1da59f5cf5f1",
   "metadata": {
    "tags": []
   },
   "source": [
    "## Training\n",
    "\n",
    "The cells below train the model and plot the loss as a function of the number of training epochs.\n",
    "\n",
    "An epoch is defined as one whole pass through the training set."
   ]
  },
  {
   "cell_type": "code",
   "execution_count": 7,
   "id": "b948ff58-20a7-49a3-b668-34bf986db2c9",
   "metadata": {},
   "outputs": [],
   "source": [
    "# Modify the model arguments in the dictionary\n",
    "# --------------------------------------------\n",
    "model_args = {\n",
    "    \"hidden_layer_sizes\": (10,),\n",
    "    \"activation\": \"relu\",\n",
    "    \"batch_size\": 128,\n",
    "    \"max_iter\": 25,\n",
    "    \"shuffle\": True,\n",
    "    \"early_stopping\": False\n",
    "}"
   ]
  },
  {
   "cell_type": "code",
   "execution_count": 8,
   "id": "8930375a-c4f8-4361-affe-e80e782fbca1",
   "metadata": {},
   "outputs": [
    {
     "name": "stderr",
     "output_type": "stream",
     "text": [
      "C:\\Users\\s1759665\\Miniconda3\\envs\\cerest1\\lib\\site-packages\\sklearn\\neural_network\\_multilayer_perceptron.py:702: ConvergenceWarning: Stochastic Optimizer: Maximum iterations (25) reached and the optimization hasn't converged yet.\n",
      "  warnings.warn(\n"
     ]
    }
   ],
   "source": [
    "X_train, X_test, y_train, y_test = train_test_split(norm01, labels, shuffle=True, train_size = 0.25)\n",
    "model = MLPClassifier(**model_args)\n",
    "trained_model = model.fit(X_train, y_train)"
   ]
  },
  {
   "cell_type": "code",
   "execution_count": null,
   "id": "f5dd1d58-2364-4220-a37c-3841697f776c",
   "metadata": {
    "jupyter": {
     "source_hidden": true
    },
    "tags": []
   },
   "outputs": [],
   "source": [
    "fig, ax = plt.subplots()\n",
    "ax.plot(trained_model.loss_curve_, \"o-\")\n",
    "ax.set_xlabel(\"epoch\")\n",
    "ax.set_ylabel(\"train loss\")\n",
    "ax.set_yscale(\"log\")"
   ]
  },
  {
   "cell_type": "markdown",
   "id": "0f4aaca7-0b16-4bf1-b668-2e1fc0c4cf40",
   "metadata": {},
   "source": [
    "## grid search"
   ]
  },
  {
   "cell_type": "code",
   "execution_count": 12,
   "id": "24535ecf-51fd-4d3e-bc38-2c7e8e64746a",
   "metadata": {},
   "outputs": [],
   "source": [
    "# GridSearchCV?"
   ]
  },
  {
   "cell_type": "code",
   "execution_count": null,
   "id": "d531ac05-59d9-44a8-bb71-5b46a61f7a48",
   "metadata": {},
   "outputs": [
    {
     "name": "stdout",
     "output_type": "stream",
     "text": [
      "Fitting 3 folds for each of 12 candidates, totalling 36 fits\n"
     ]
    }
   ],
   "source": [
    "X_train, X_test, y_train, y_test = train_test_split(norm01, labels, shuffle=True, train_size = 0.25)\n",
    "modelGS = MLPClassifier(**model_args)\n",
    "\n",
    "params = {\n",
    "    # \"alpha\": [0.001, 0.0001, 0.00001],\n",
    "    \"learning_rate_init\": [0.01, 0.001, 0.0001],\n",
    "    \"batch_size\" : [16,32,64,128]\n",
    "}\n",
    "gs = GridSearchCV(\n",
    "    estimator=modelGS, param_grid=params,\n",
    "    scoring=\"f1\", n_jobs=-1, verbose=4, cv=3)\n",
    "\n",
    "trained_models = gs.fit(X_train, y_train)\n",
    "print('finished')"
   ]
  },
  {
   "cell_type": "code",
   "execution_count": 20,
   "id": "64385593-52d5-4747-90b6-6e209e304e98",
   "metadata": {},
   "outputs": [
    {
     "data": {
      "text/html": [
       "<div>\n",
       "<style scoped>\n",
       "    .dataframe tbody tr th:only-of-type {\n",
       "        vertical-align: middle;\n",
       "    }\n",
       "\n",
       "    .dataframe tbody tr th {\n",
       "        vertical-align: top;\n",
       "    }\n",
       "\n",
       "    .dataframe thead th {\n",
       "        text-align: right;\n",
       "    }\n",
       "</style>\n",
       "<table border=\"1\" class=\"dataframe\">\n",
       "  <thead>\n",
       "    <tr style=\"text-align: right;\">\n",
       "      <th></th>\n",
       "      <th>mean_fit_time</th>\n",
       "      <th>std_fit_time</th>\n",
       "      <th>mean_score_time</th>\n",
       "      <th>std_score_time</th>\n",
       "      <th>param_batch_size</th>\n",
       "      <th>param_learning_rate_init</th>\n",
       "      <th>params</th>\n",
       "      <th>split0_test_score</th>\n",
       "      <th>split1_test_score</th>\n",
       "      <th>split2_test_score</th>\n",
       "      <th>mean_test_score</th>\n",
       "      <th>std_test_score</th>\n",
       "      <th>rank_test_score</th>\n",
       "    </tr>\n",
       "  </thead>\n",
       "  <tbody>\n",
       "    <tr>\n",
       "      <th>0</th>\n",
       "      <td>14.216239</td>\n",
       "      <td>0.558752</td>\n",
       "      <td>0.036321</td>\n",
       "      <td>0.005956</td>\n",
       "      <td>16</td>\n",
       "      <td>0.01</td>\n",
       "      <td>{'batch_size': 16, 'learning_rate_init': 0.01}</td>\n",
       "      <td>0.769231</td>\n",
       "      <td>0.000000</td>\n",
       "      <td>0.133333</td>\n",
       "      <td>0.300855</td>\n",
       "      <td>0.335635</td>\n",
       "      <td>8</td>\n",
       "    </tr>\n",
       "    <tr>\n",
       "      <th>1</th>\n",
       "      <td>14.055275</td>\n",
       "      <td>0.451894</td>\n",
       "      <td>0.030856</td>\n",
       "      <td>0.004167</td>\n",
       "      <td>16</td>\n",
       "      <td>0.001</td>\n",
       "      <td>{'batch_size': 16, 'learning_rate_init': 0.001}</td>\n",
       "      <td>0.800000</td>\n",
       "      <td>0.800000</td>\n",
       "      <td>0.814815</td>\n",
       "      <td>0.804938</td>\n",
       "      <td>0.006984</td>\n",
       "      <td>2</td>\n",
       "    </tr>\n",
       "    <tr>\n",
       "      <th>2</th>\n",
       "      <td>13.726961</td>\n",
       "      <td>0.025211</td>\n",
       "      <td>0.025285</td>\n",
       "      <td>0.001933</td>\n",
       "      <td>16</td>\n",
       "      <td>0.0001</td>\n",
       "      <td>{'batch_size': 16, 'learning_rate_init': 0.0001}</td>\n",
       "      <td>0.800000</td>\n",
       "      <td>0.882353</td>\n",
       "      <td>0.800000</td>\n",
       "      <td>0.827451</td>\n",
       "      <td>0.038822</td>\n",
       "      <td>1</td>\n",
       "    </tr>\n",
       "    <tr>\n",
       "      <th>3</th>\n",
       "      <td>9.251960</td>\n",
       "      <td>0.475714</td>\n",
       "      <td>0.030375</td>\n",
       "      <td>0.001408</td>\n",
       "      <td>32</td>\n",
       "      <td>0.01</td>\n",
       "      <td>{'batch_size': 32, 'learning_rate_init': 0.01}</td>\n",
       "      <td>0.000000</td>\n",
       "      <td>0.000000</td>\n",
       "      <td>0.764706</td>\n",
       "      <td>0.254902</td>\n",
       "      <td>0.360486</td>\n",
       "      <td>11</td>\n",
       "    </tr>\n",
       "    <tr>\n",
       "      <th>4</th>\n",
       "      <td>7.305930</td>\n",
       "      <td>1.763113</td>\n",
       "      <td>0.031768</td>\n",
       "      <td>0.008734</td>\n",
       "      <td>32</td>\n",
       "      <td>0.001</td>\n",
       "      <td>{'batch_size': 32, 'learning_rate_init': 0.001}</td>\n",
       "      <td>0.750000</td>\n",
       "      <td>0.365854</td>\n",
       "      <td>0.695652</td>\n",
       "      <td>0.603835</td>\n",
       "      <td>0.169735</td>\n",
       "      <td>3</td>\n",
       "    </tr>\n",
       "    <tr>\n",
       "      <th>5</th>\n",
       "      <td>8.099898</td>\n",
       "      <td>0.089751</td>\n",
       "      <td>0.037203</td>\n",
       "      <td>0.007890</td>\n",
       "      <td>32</td>\n",
       "      <td>0.0001</td>\n",
       "      <td>{'batch_size': 32, 'learning_rate_init': 0.0001}</td>\n",
       "      <td>0.000000</td>\n",
       "      <td>0.866667</td>\n",
       "      <td>0.846154</td>\n",
       "      <td>0.570940</td>\n",
       "      <td>0.403803</td>\n",
       "      <td>4</td>\n",
       "    </tr>\n",
       "    <tr>\n",
       "      <th>6</th>\n",
       "      <td>6.003544</td>\n",
       "      <td>0.169404</td>\n",
       "      <td>0.036663</td>\n",
       "      <td>0.009562</td>\n",
       "      <td>64</td>\n",
       "      <td>0.01</td>\n",
       "      <td>{'batch_size': 64, 'learning_rate_init': 0.01}</td>\n",
       "      <td>0.526316</td>\n",
       "      <td>0.000000</td>\n",
       "      <td>0.000000</td>\n",
       "      <td>0.175439</td>\n",
       "      <td>0.248108</td>\n",
       "      <td>12</td>\n",
       "    </tr>\n",
       "    <tr>\n",
       "      <th>7</th>\n",
       "      <td>5.742509</td>\n",
       "      <td>0.035559</td>\n",
       "      <td>0.026767</td>\n",
       "      <td>0.001794</td>\n",
       "      <td>64</td>\n",
       "      <td>0.001</td>\n",
       "      <td>{'batch_size': 64, 'learning_rate_init': 0.001}</td>\n",
       "      <td>0.000000</td>\n",
       "      <td>0.810811</td>\n",
       "      <td>0.000000</td>\n",
       "      <td>0.270270</td>\n",
       "      <td>0.382220</td>\n",
       "      <td>10</td>\n",
       "    </tr>\n",
       "    <tr>\n",
       "      <th>8</th>\n",
       "      <td>5.753796</td>\n",
       "      <td>0.330734</td>\n",
       "      <td>0.022192</td>\n",
       "      <td>0.004084</td>\n",
       "      <td>64</td>\n",
       "      <td>0.0001</td>\n",
       "      <td>{'batch_size': 64, 'learning_rate_init': 0.0001}</td>\n",
       "      <td>0.352941</td>\n",
       "      <td>0.571429</td>\n",
       "      <td>0.740741</td>\n",
       "      <td>0.555037</td>\n",
       "      <td>0.158742</td>\n",
       "      <td>5</td>\n",
       "    </tr>\n",
       "    <tr>\n",
       "      <th>9</th>\n",
       "      <td>3.408301</td>\n",
       "      <td>0.780383</td>\n",
       "      <td>0.022143</td>\n",
       "      <td>0.007086</td>\n",
       "      <td>128</td>\n",
       "      <td>0.01</td>\n",
       "      <td>{'batch_size': 128, 'learning_rate_init': 0.01}</td>\n",
       "      <td>0.133333</td>\n",
       "      <td>0.000000</td>\n",
       "      <td>0.695652</td>\n",
       "      <td>0.276329</td>\n",
       "      <td>0.301462</td>\n",
       "      <td>9</td>\n",
       "    </tr>\n",
       "    <tr>\n",
       "      <th>10</th>\n",
       "      <td>3.853689</td>\n",
       "      <td>0.040435</td>\n",
       "      <td>0.014518</td>\n",
       "      <td>0.002663</td>\n",
       "      <td>128</td>\n",
       "      <td>0.001</td>\n",
       "      <td>{'batch_size': 128, 'learning_rate_init': 0.001}</td>\n",
       "      <td>0.666667</td>\n",
       "      <td>0.000000</td>\n",
       "      <td>0.695652</td>\n",
       "      <td>0.454106</td>\n",
       "      <td>0.321320</td>\n",
       "      <td>7</td>\n",
       "    </tr>\n",
       "    <tr>\n",
       "      <th>11</th>\n",
       "      <td>3.084692</td>\n",
       "      <td>0.175534</td>\n",
       "      <td>0.010465</td>\n",
       "      <td>0.001658</td>\n",
       "      <td>128</td>\n",
       "      <td>0.0001</td>\n",
       "      <td>{'batch_size': 128, 'learning_rate_init': 0.0001}</td>\n",
       "      <td>0.666667</td>\n",
       "      <td>0.608696</td>\n",
       "      <td>0.250000</td>\n",
       "      <td>0.508454</td>\n",
       "      <td>0.184281</td>\n",
       "      <td>6</td>\n",
       "    </tr>\n",
       "  </tbody>\n",
       "</table>\n",
       "</div>"
      ],
      "text/plain": [
       "    mean_fit_time  std_fit_time  mean_score_time  std_score_time  \\\n",
       "0       14.216239      0.558752         0.036321        0.005956   \n",
       "1       14.055275      0.451894         0.030856        0.004167   \n",
       "2       13.726961      0.025211         0.025285        0.001933   \n",
       "3        9.251960      0.475714         0.030375        0.001408   \n",
       "4        7.305930      1.763113         0.031768        0.008734   \n",
       "5        8.099898      0.089751         0.037203        0.007890   \n",
       "6        6.003544      0.169404         0.036663        0.009562   \n",
       "7        5.742509      0.035559         0.026767        0.001794   \n",
       "8        5.753796      0.330734         0.022192        0.004084   \n",
       "9        3.408301      0.780383         0.022143        0.007086   \n",
       "10       3.853689      0.040435         0.014518        0.002663   \n",
       "11       3.084692      0.175534         0.010465        0.001658   \n",
       "\n",
       "   param_batch_size param_learning_rate_init  \\\n",
       "0                16                     0.01   \n",
       "1                16                    0.001   \n",
       "2                16                   0.0001   \n",
       "3                32                     0.01   \n",
       "4                32                    0.001   \n",
       "5                32                   0.0001   \n",
       "6                64                     0.01   \n",
       "7                64                    0.001   \n",
       "8                64                   0.0001   \n",
       "9               128                     0.01   \n",
       "10              128                    0.001   \n",
       "11              128                   0.0001   \n",
       "\n",
       "                                               params  split0_test_score  \\\n",
       "0      {'batch_size': 16, 'learning_rate_init': 0.01}           0.769231   \n",
       "1     {'batch_size': 16, 'learning_rate_init': 0.001}           0.800000   \n",
       "2    {'batch_size': 16, 'learning_rate_init': 0.0001}           0.800000   \n",
       "3      {'batch_size': 32, 'learning_rate_init': 0.01}           0.000000   \n",
       "4     {'batch_size': 32, 'learning_rate_init': 0.001}           0.750000   \n",
       "5    {'batch_size': 32, 'learning_rate_init': 0.0001}           0.000000   \n",
       "6      {'batch_size': 64, 'learning_rate_init': 0.01}           0.526316   \n",
       "7     {'batch_size': 64, 'learning_rate_init': 0.001}           0.000000   \n",
       "8    {'batch_size': 64, 'learning_rate_init': 0.0001}           0.352941   \n",
       "9     {'batch_size': 128, 'learning_rate_init': 0.01}           0.133333   \n",
       "10   {'batch_size': 128, 'learning_rate_init': 0.001}           0.666667   \n",
       "11  {'batch_size': 128, 'learning_rate_init': 0.0001}           0.666667   \n",
       "\n",
       "    split1_test_score  split2_test_score  mean_test_score  std_test_score  \\\n",
       "0            0.000000           0.133333         0.300855        0.335635   \n",
       "1            0.800000           0.814815         0.804938        0.006984   \n",
       "2            0.882353           0.800000         0.827451        0.038822   \n",
       "3            0.000000           0.764706         0.254902        0.360486   \n",
       "4            0.365854           0.695652         0.603835        0.169735   \n",
       "5            0.866667           0.846154         0.570940        0.403803   \n",
       "6            0.000000           0.000000         0.175439        0.248108   \n",
       "7            0.810811           0.000000         0.270270        0.382220   \n",
       "8            0.571429           0.740741         0.555037        0.158742   \n",
       "9            0.000000           0.695652         0.276329        0.301462   \n",
       "10           0.000000           0.695652         0.454106        0.321320   \n",
       "11           0.608696           0.250000         0.508454        0.184281   \n",
       "\n",
       "    rank_test_score  \n",
       "0                 8  \n",
       "1                 2  \n",
       "2                 1  \n",
       "3                11  \n",
       "4                 3  \n",
       "5                 4  \n",
       "6                12  \n",
       "7                10  \n",
       "8                 5  \n",
       "9                 9  \n",
       "10                7  \n",
       "11                6  "
      ]
     },
     "execution_count": 20,
     "metadata": {},
     "output_type": "execute_result"
    }
   ],
   "source": [
    "summary = pd.DataFrame(trained_models.cv_results_)"
   ]
  },
  {
   "cell_type": "code",
   "execution_count": 24,
   "id": "953dd595-7eef-4f6a-af88-50695b5a3f4b",
   "metadata": {},
   "outputs": [
    {
     "name": "stdout",
     "output_type": "stream",
     "text": [
      "              precision    recall  f1-score   support\n",
      "\n",
      " no ship (0)       0.75      1.00      0.86      2843\n",
      "    ship (1)       0.00      0.00      0.00       957\n",
      "\n",
      "    accuracy                           0.75      3800\n",
      "   macro avg       0.37      0.50      0.43      3800\n",
      "weighted avg       0.56      0.75      0.64      3800\n",
      "\n",
      "matthews: 0\n"
     ]
    },
    {
     "name": "stderr",
     "output_type": "stream",
     "text": [
      "C:\\Users\\s1759665\\Miniconda3\\envs\\cerest1\\lib\\site-packages\\sklearn\\metrics\\_classification.py:1334: UndefinedMetricWarning: Precision and F-score are ill-defined and being set to 0.0 due to no predicted samples. Use `zero_division` parameter to control this behavior.\n",
      "  _warn_prf(average, modifier, msg_start, len(result))\n",
      "C:\\Users\\s1759665\\Miniconda3\\envs\\cerest1\\lib\\site-packages\\sklearn\\metrics\\_classification.py:1334: UndefinedMetricWarning: Precision and F-score are ill-defined and being set to 0.0 in labels with no predicted samples. Use `zero_division` parameter to control this behavior.\n",
      "  _warn_prf(average, modifier, msg_start, len(result))\n",
      "C:\\Users\\s1759665\\Miniconda3\\envs\\cerest1\\lib\\site-packages\\sklearn\\metrics\\_classification.py:1334: UndefinedMetricWarning: Precision and F-score are ill-defined and being set to 0.0 in labels with no predicted samples. Use `zero_division` parameter to control this behavior.\n",
      "  _warn_prf(average, modifier, msg_start, len(result))\n",
      "C:\\Users\\s1759665\\Miniconda3\\envs\\cerest1\\lib\\site-packages\\sklearn\\metrics\\_classification.py:1334: UndefinedMetricWarning: Precision and F-score are ill-defined and being set to 0.0 in labels with no predicted samples. Use `zero_division` parameter to control this behavior.\n",
      "  _warn_prf(average, modifier, msg_start, len(result))\n"
     ]
    }
   ],
   "source": [
    "from sklearn.metrics import precision_recall_fscore_support, matthews_corrcoef, classification_report\n",
    "best_model = trained_models.best_estimator_\n",
    "\n",
    "y_pred_class = best_model.predict(X_test)\n",
    "y_pred_prob = best_model.predict_proba(X_test)[:, 1]\n",
    "\n",
    "precision, recall, fscore, support = precision_recall_fscore_support(\n",
    "        y_test, y_pred_class, average=\"binary\"\n",
    ")\n",
    "matthews = matthews_corrcoef(y_test, y_pred_class)\n",
    "\n",
    "print(classification_report(y_test, y_pred_class, target_names=[\"no ship (0)\", \"ship (1)\"]))\n",
    "print(f\"matthews: {matthews:.2g}\")"
   ]
  },
  {
   "cell_type": "markdown",
   "id": "80560a97-02fa-4405-86b0-fe06aec6a123",
   "metadata": {
    "jp-MarkdownHeadingCollapsed": true,
    "tags": []
   },
   "source": [
    "## Metrics\n",
    "\n",
    "Modify the cells below to compute some more useful classification metrics."
   ]
  },
  {
   "cell_type": "code",
   "execution_count": null,
   "id": "a652338d-3179-4018-9b8f-193fece738f8",
   "metadata": {},
   "outputs": [],
   "source": [
    "from sklearn.metrics import accuracy_score, ConfusionMatrixDisplay"
   ]
  },
  {
   "cell_type": "code",
   "execution_count": null,
   "id": "f5384e7c-b50a-4be2-b397-c12da578e7af",
   "metadata": {},
   "outputs": [],
   "source": [
    "# The predicted class (0 or 1)\n",
    "y_pred_class = trained_model.predict(X_test)\n",
    "\n",
    "# The predicted probability (between 0 and 1)\n",
    "y_pred_prob = trained_model.predict_proba(X_test)[:, 1]"
   ]
  },
  {
   "cell_type": "code",
   "execution_count": null,
   "id": "cfba1ead-2463-4875-b032-a83eeb7a1171",
   "metadata": {},
   "outputs": [],
   "source": [
    "accuracy = accuracy_score(y_test, y_pred_class)\n",
    "f\"The accuracy is: {accuracy}\""
   ]
  },
  {
   "cell_type": "code",
   "execution_count": null,
   "id": "d8d85f87-9155-462d-9eea-a333cca313d0",
   "metadata": {},
   "outputs": [],
   "source": [
    "ConfusionMatrixDisplay.from_predictions(y_test, y_pred_class)"
   ]
  },
  {
   "cell_type": "code",
   "execution_count": null,
   "id": "a9fa28aa-535f-4f7a-a29a-1fc47596ed2a",
   "metadata": {},
   "outputs": [],
   "source": [
    "from sklearn.metrics import cohen_kappa_score\n",
    "cohen_kappa_score(y_test, y_pred_class)"
   ]
  },
  {
   "cell_type": "code",
   "execution_count": null,
   "id": "c66ffe02-aef7-4d61-bddb-9cbbe0cb0931",
   "metadata": {},
   "outputs": [],
   "source": [
    "from sklearn.metrics import balanced_accuracy_score\n",
    "balanced_accuracy_score(y_test, y_pred_class, adjusted = True)"
   ]
  },
  {
   "cell_type": "code",
   "execution_count": null,
   "id": "a206770b-8b28-427a-80e4-b34aba46099a",
   "metadata": {},
   "outputs": [],
   "source": [
    "from sklearn.metrics import top_k_accuracy_score\n",
    "top_k_accuracy_score(y_test, y_pred_class)"
   ]
  },
  {
   "cell_type": "markdown",
   "id": "d53b5351-4cbc-4290-8218-192e6e3deab9",
   "metadata": {},
   "source": [
    "precision, recall & f-score, matthews coeff"
   ]
  },
  {
   "cell_type": "markdown",
   "id": "418e07a1-761e-4714-96f6-6cdf40f6fb60",
   "metadata": {
    "jp-MarkdownHeadingCollapsed": true,
    "tags": []
   },
   "source": [
    "## Reproducibility check\n",
    "\n",
    "You should modify the code below so that the training phase is reproducible.\n",
    "\n",
    "To check this, train two identical models, and pass the parameters of the trained models into ``check_parameters_match``.\n",
    "\n",
    "**Hint:** You will need to add an extra argument to ``train_test_split``, as well as ``MLPClassifier``."
   ]
  },
  {
   "cell_type": "code",
   "execution_count": null,
   "id": "13fb0ebb-576b-46bc-865d-f50ddfc6bfee",
   "metadata": {},
   "outputs": [],
   "source": [
    "from utils import check_parameters_match\n",
    "# check_parameters_match?"
   ]
  },
  {
   "cell_type": "code",
   "execution_count": null,
   "id": "425e7816-bd3f-4f8e-9675-7102a41196f7",
   "metadata": {},
   "outputs": [],
   "source": [
    "# FIRST MODEL\n",
    "SEED = 123456789\n",
    "rng = np.random.RandomState(SEED)\n",
    "X_train, X_test, y_train, y_test = train_test_split(inputs, labels, shuffle=True, random_state = rng)\n",
    "model = MLPClassifier(**model_args, random_state=rng)\n",
    "trained_model = model.fit(X_train, y_train)\n",
    "parameters_1 = trained_model.coefs_ + trained_model.intercepts_"
   ]
  },
  {
   "cell_type": "code",
   "execution_count": null,
   "id": "d4e6f596-88cf-4f6c-9bef-c30fb1de75cf",
   "metadata": {},
   "outputs": [],
   "source": [
    "# SECOND MODEL\n",
    "rng = np.random.RandomState(SEED)\n",
    "X_train, X_test, y_train, y_test = train_test_split(inputs, labels, shuffle=True, random_state=rng)\n",
    "model = MLPClassifier(**model_args, random_state=rng)\n",
    "trained_model = model.fit(X_train, y_train)\n",
    "parameters_2 = trained_model.coefs_ + trained_model.intercepts_"
   ]
  },
  {
   "cell_type": "code",
   "execution_count": null,
   "id": "ba041428-ed67-43fa-8dd7-3e895f8af491",
   "metadata": {},
   "outputs": [],
   "source": [
    "assert check_parameters_match(parameters_1, parameters_2), \"Models are not identical!\""
   ]
  }
 ],
 "metadata": {
  "kernelspec": {
   "display_name": "Python 3 (ipykernel)",
   "language": "python",
   "name": "python3"
  },
  "language_info": {
   "codemirror_mode": {
    "name": "ipython",
    "version": 3
   },
   "file_extension": ".py",
   "mimetype": "text/x-python",
   "name": "python",
   "nbconvert_exporter": "python",
   "pygments_lexer": "ipython3",
   "version": "3.9.13"
  }
 },
 "nbformat": 4,
 "nbformat_minor": 5
}
