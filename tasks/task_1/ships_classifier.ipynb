{
 "cells": [
  {
   "cell_type": "markdown",
   "id": "1521d019-938d-40df-8274-812ebd6ae622",
   "metadata": {},
   "source": [
    "# Multi-Layer Perceptron Binary Classifier using Scikit-Learn"
   ]
  },
  {
   "cell_type": "code",
   "execution_count": 1,
   "id": "6a20f19b-0a4f-44e1-8364-c485ebcd1ed6",
   "metadata": {},
   "outputs": [],
   "source": [
    "from itertools import product\n",
    "\n",
    "import matplotlib.pyplot as plt\n",
    "import numpy as np\n",
    "import pandas as pd\n",
    "from sklearn.neural_network import MLPClassifier\n",
    "from sklearn.model_selection import GridSearchCV, train_test_split\n",
    "from sklearn.metrics import (\n",
    "    classification_report,\n",
    "    precision_recall_fscore_support,\n",
    "    matthews_corrcoef,\n",
    "    ConfusionMatrixDisplay,\n",
    "    RocCurveDisplay,\n",
    "    DetCurveDisplay,\n",
    "    PrecisionRecallDisplay,\n",
    ")\n",
    "\n",
    "from utils import load_data_from_json, array_to_rgb_image"
   ]
  },
  {
   "cell_type": "code",
   "execution_count": 2,
   "id": "7ccbcfe3-40a7-48a3-a499-3378a3fd0ff3",
   "metadata": {},
   "outputs": [
    {
     "ename": "FileNotFoundError",
     "evalue": "[Errno 2] No such file or directory: 'data/shipsnet.json'",
     "output_type": "error",
     "traceback": [
      "\u001b[0;31m---------------------------------------------------------------------------\u001b[0m",
      "\u001b[0;31mFileNotFoundError\u001b[0m                         Traceback (most recent call last)",
      "Input \u001b[0;32mIn [2]\u001b[0m, in \u001b[0;36m<cell line: 1>\u001b[0;34m()\u001b[0m\n\u001b[0;32m----> 1\u001b[0m RAW_DATA \u001b[38;5;241m=\u001b[39m \u001b[43mload_data_from_json\u001b[49m\u001b[43m(\u001b[49m\u001b[43m)\u001b[49m\n",
      "File \u001b[0;32m~/Repositories/ceres-workshop/tasks/task_1/utils.py:13\u001b[0m, in \u001b[0;36mload_data_from_json\u001b[0;34m(data_dir)\u001b[0m\n\u001b[1;32m     11\u001b[0m data_dir \u001b[38;5;241m=\u001b[39m Path(data_dir)\n\u001b[1;32m     12\u001b[0m data_json \u001b[38;5;241m=\u001b[39m data_dir \u001b[38;5;241m/\u001b[39m \u001b[38;5;124m\"\u001b[39m\u001b[38;5;124mshipsnet.json\u001b[39m\u001b[38;5;124m\"\u001b[39m\n\u001b[0;32m---> 13\u001b[0m \u001b[38;5;28;01mwith\u001b[39;00m \u001b[43mdata_json\u001b[49m\u001b[38;5;241;43m.\u001b[39;49m\u001b[43mopen\u001b[49m\u001b[43m(\u001b[49m\u001b[38;5;124;43m\"\u001b[39;49m\u001b[38;5;124;43mr\u001b[39;49m\u001b[38;5;124;43m\"\u001b[39;49m\u001b[43m)\u001b[49m \u001b[38;5;28;01mas\u001b[39;00m file:\n\u001b[1;32m     14\u001b[0m     data_dict \u001b[38;5;241m=\u001b[39m json\u001b[38;5;241m.\u001b[39mload(file)\n\u001b[1;32m     15\u001b[0m \u001b[38;5;28;01mreturn\u001b[39;00m data_dict\n",
      "File \u001b[0;32m~/.miniconda3/envs/ceres-t1/lib/python3.9/pathlib.py:1252\u001b[0m, in \u001b[0;36mPath.open\u001b[0;34m(self, mode, buffering, encoding, errors, newline)\u001b[0m\n\u001b[1;32m   1246\u001b[0m \u001b[38;5;28;01mdef\u001b[39;00m \u001b[38;5;21mopen\u001b[39m(\u001b[38;5;28mself\u001b[39m, mode\u001b[38;5;241m=\u001b[39m\u001b[38;5;124m'\u001b[39m\u001b[38;5;124mr\u001b[39m\u001b[38;5;124m'\u001b[39m, buffering\u001b[38;5;241m=\u001b[39m\u001b[38;5;241m-\u001b[39m\u001b[38;5;241m1\u001b[39m, encoding\u001b[38;5;241m=\u001b[39m\u001b[38;5;28;01mNone\u001b[39;00m,\n\u001b[1;32m   1247\u001b[0m          errors\u001b[38;5;241m=\u001b[39m\u001b[38;5;28;01mNone\u001b[39;00m, newline\u001b[38;5;241m=\u001b[39m\u001b[38;5;28;01mNone\u001b[39;00m):\n\u001b[1;32m   1248\u001b[0m     \u001b[38;5;124;03m\"\"\"\u001b[39;00m\n\u001b[1;32m   1249\u001b[0m \u001b[38;5;124;03m    Open the file pointed by this path and return a file object, as\u001b[39;00m\n\u001b[1;32m   1250\u001b[0m \u001b[38;5;124;03m    the built-in open() function does.\u001b[39;00m\n\u001b[1;32m   1251\u001b[0m \u001b[38;5;124;03m    \"\"\"\u001b[39;00m\n\u001b[0;32m-> 1252\u001b[0m     \u001b[38;5;28;01mreturn\u001b[39;00m \u001b[43mio\u001b[49m\u001b[38;5;241;43m.\u001b[39;49m\u001b[43mopen\u001b[49m\u001b[43m(\u001b[49m\u001b[38;5;28;43mself\u001b[39;49m\u001b[43m,\u001b[49m\u001b[43m \u001b[49m\u001b[43mmode\u001b[49m\u001b[43m,\u001b[49m\u001b[43m \u001b[49m\u001b[43mbuffering\u001b[49m\u001b[43m,\u001b[49m\u001b[43m \u001b[49m\u001b[43mencoding\u001b[49m\u001b[43m,\u001b[49m\u001b[43m \u001b[49m\u001b[43merrors\u001b[49m\u001b[43m,\u001b[49m\u001b[43m \u001b[49m\u001b[43mnewline\u001b[49m\u001b[43m,\u001b[49m\n\u001b[1;32m   1253\u001b[0m \u001b[43m                   \u001b[49m\u001b[43mopener\u001b[49m\u001b[38;5;241;43m=\u001b[39;49m\u001b[38;5;28;43mself\u001b[39;49m\u001b[38;5;241;43m.\u001b[39;49m\u001b[43m_opener\u001b[49m\u001b[43m)\u001b[49m\n",
      "File \u001b[0;32m~/.miniconda3/envs/ceres-t1/lib/python3.9/pathlib.py:1120\u001b[0m, in \u001b[0;36mPath._opener\u001b[0;34m(self, name, flags, mode)\u001b[0m\n\u001b[1;32m   1118\u001b[0m \u001b[38;5;28;01mdef\u001b[39;00m \u001b[38;5;21m_opener\u001b[39m(\u001b[38;5;28mself\u001b[39m, name, flags, mode\u001b[38;5;241m=\u001b[39m\u001b[38;5;241m0o666\u001b[39m):\n\u001b[1;32m   1119\u001b[0m     \u001b[38;5;66;03m# A stub for the opener argument to built-in open()\u001b[39;00m\n\u001b[0;32m-> 1120\u001b[0m     \u001b[38;5;28;01mreturn\u001b[39;00m \u001b[38;5;28;43mself\u001b[39;49m\u001b[38;5;241;43m.\u001b[39;49m\u001b[43m_accessor\u001b[49m\u001b[38;5;241;43m.\u001b[39;49m\u001b[43mopen\u001b[49m\u001b[43m(\u001b[49m\u001b[38;5;28;43mself\u001b[39;49m\u001b[43m,\u001b[49m\u001b[43m \u001b[49m\u001b[43mflags\u001b[49m\u001b[43m,\u001b[49m\u001b[43m \u001b[49m\u001b[43mmode\u001b[49m\u001b[43m)\u001b[49m\n",
      "\u001b[0;31mFileNotFoundError\u001b[0m: [Errno 2] No such file or directory: 'data/shipsnet.json'"
     ]
    }
   ],
   "source": [
    "RAW_DATA = load_data_from_json()"
   ]
  },
  {
   "cell_type": "markdown",
   "id": "b6960eca-0411-46ee-9e1a-09b013181b6f",
   "metadata": {},
   "source": [
    "## Example of training and classification metrics"
   ]
  },
  {
   "cell_type": "code",
   "execution_count": null,
   "id": "8930375a-c4f8-4361-affe-e80e782fbca1",
   "metadata": {},
   "outputs": [],
   "source": [
    "inputs = np.array(RAW_DATA[\"data\"], dtype=float)\n",
    "labels = np.array(RAW_DATA[\"labels\"], dtype=float)\n",
    "\n",
    "# NOTE: this is better than adding a standardisation transform to the pipeline\n",
    "inputs = inputs / 255 - 0.5\n",
    "\n",
    "X_train, X_test, y_train, y_test = train_test_split(inputs, labels, shuffle=True)\n",
    "\n",
    "model = MLPClassifier(\n",
    "    hidden_layer_sizes=(10,),\n",
    "    activation=\"relu\",\n",
    "    solver=\"adam\",\n",
    "    batch_size=32,\n",
    "    learning_rate=\"adaptive\",\n",
    "    max_iter=50,\n",
    "    shuffle=True,\n",
    "    random_state=None,\n",
    "    early_stopping=True,\n",
    ")\n",
    "trained_model = model.fit(X_train, y_train)\n",
    "\n",
    "fig, ax = plt.subplots()\n",
    "ax.plot(trained_model.loss_curve_, \"o-\")\n",
    "ax.set_xlabel(\"epoch\")\n",
    "ax.set_ylabel(\"train loss\")\n",
    "ax.set_yscale(\"log\")"
   ]
  },
  {
   "cell_type": "code",
   "execution_count": null,
   "id": "f5384e7c-b50a-4be2-b397-c12da578e7af",
   "metadata": {},
   "outputs": [],
   "source": [
    "y_pred_class = trained_model.predict(X_test)\n",
    "y_pred_prob = trained_model.predict_proba(X_test)[:, 1]\n",
    "\n",
    "precision, recall, fscore, support = precision_recall_fscore_support(\n",
    "        y_test, y_pred_class, average=\"binary\"\n",
    ")\n",
    "matthews = matthews_corrcoef(y_test, y_pred_class)\n",
    "\n",
    "print(classification_report(y_test, y_pred_class, target_names=[\"no ship (0)\", \"ship (1)\"]))\n",
    "print(f\"matthews: {matthews:.2g}\")"
   ]
  },
  {
   "cell_type": "code",
   "execution_count": null,
   "id": "31430876-4555-4b47-a856-c1c6ef86265c",
   "metadata": {},
   "outputs": [],
   "source": [
    "fig, axes = plt.subplots(2, 2, figsize=(8, 8))\n",
    "\n",
    "for metric, y_pred, ax in zip(\n",
    "    [ConfusionMatrixDisplay, RocCurveDisplay, DetCurveDisplay, PrecisionRecallDisplay],\n",
    "    [y_pred_class, y_pred_prob, y_pred_prob, y_pred_prob],\n",
    "    axes.flatten()\n",
    "):\n",
    "    disp = metric.from_predictions(y_test, y_pred, ax=ax)\n",
    "    ax.set_title(metric.__name__.replace(\"Display\", \"\"))\n",
    "\n",
    "fig.tight_layout()"
   ]
  },
  {
   "cell_type": "markdown",
   "id": "418e07a1-761e-4714-96f6-6cdf40f6fb60",
   "metadata": {},
   "source": [
    "## Reproducibility check"
   ]
  },
  {
   "cell_type": "code",
   "execution_count": null,
   "id": "2fff4e7d-6a59-4d95-bf0d-cb4e63f6a517",
   "metadata": {},
   "outputs": [],
   "source": [
    "def reproducible_train(seed) -> list[np.ndarray]:\n",
    "    rng = np.random.RandomState(seed)\n",
    "    \n",
    "    inputs = np.array(RAW_DATA[\"data\"], dtype=float)\n",
    "    labels = np.array(RAW_DATA[\"labels\"], dtype=float)\n",
    "    inputs = inputs / 255 - 0.5\n",
    "    X_train, X_test, y_train, y_test = train_test_split(inputs, labels, random_state=rng, shuffle=True)\n",
    "    \n",
    "    model = MLPClassifier(\n",
    "        hidden_layer_sizes=(10,),\n",
    "        shuffle=True,\n",
    "        random_state=rng,\n",
    "        max_iter=2,\n",
    "    )\n",
    "    trained_model = model.fit(X_train, y_train)\n",
    "\n",
    "    return trained_model.coefs_ + trained_model.intercepts_\n",
    "\n",
    "seed = 123456789\n",
    "\n",
    "params_1 = reproducible_train(seed)\n",
    "params_2 = reproducible_train(seed)\n",
    "\n",
    "assert all([np.allclose(a, b) for a, b in zip(params_1, params_2)])"
   ]
  },
  {
   "cell_type": "markdown",
   "id": "bbafa93c-9ffb-44ea-ad93-83b89fb37d4e",
   "metadata": {},
   "source": [
    "# Hyperparameter scan"
   ]
  },
  {
   "cell_type": "code",
   "execution_count": null,
   "id": "f541b563-3909-423f-b4ad-34cf2effac48",
   "metadata": {},
   "outputs": [],
   "source": [
    "model = MLPClassifier(\n",
    "    hidden_layer_sizes=(10,),\n",
    "    solver=\"adam\",\n",
    "    activation=\"relu\",\n",
    "    batch_size=32,\n",
    "    learning_rate=\"adaptive\",\n",
    "    max_iter=50,\n",
    "    shuffle=True,\n",
    "    early_stopping=True,\n",
    ")\n",
    "params = {\n",
    "    \"alpha\": [0.001, 0.0001, 0.00001],\n",
    "    \"learning_rate_init\": [0.01, 0.001, 0.0001],\n",
    "}\n",
    "gs = GridSearchCV(\n",
    "    estimator=model,\n",
    "    param_grid=params,\n",
    "    scoring=\"f1\",\n",
    "    n_jobs=4,\n",
    "    verbose=4,\n",
    "    cv=3,\n",
    ")"
   ]
  },
  {
   "cell_type": "code",
   "execution_count": null,
   "id": "6fee2eca-9d60-4608-9086-3dac6c0fe2c0",
   "metadata": {},
   "outputs": [],
   "source": [
    "inputs = np.array(RAW_DATA[\"data\"], dtype=float)\n",
    "labels = np.array(RAW_DATA[\"labels\"], dtype=float)\n",
    "inputs = inputs / 255 - 0.5\n",
    "X_train, X_test, y_train, y_test = train_test_split(inputs, labels, shuffle=True)\n",
    "    \n",
    "trained_models = gs.fit(X_train, y_train)\n",
    "summary = pd.DataFrame(trained_models.cv_results_)\n",
    "\n",
    "summary"
   ]
  },
  {
   "cell_type": "code",
   "execution_count": null,
   "id": "7c8dac23-b3ce-4ec2-add2-cf87975bb56d",
   "metadata": {},
   "outputs": [],
   "source": [
    "best_model = trained_models.best_estimator_\n",
    "\n",
    "y_pred_class = best_model.predict(X_test)\n",
    "y_pred_prob = best_model.predict_proba(X_test)[:, 1]\n",
    "\n",
    "precision, recall, fscore, support = precision_recall_fscore_support(\n",
    "        y_test, y_pred_class, average=\"binary\"\n",
    ")\n",
    "matthews = matthews_corrcoef(y_test, y_pred_class)\n",
    "\n",
    "print(classification_report(y_test, y_pred_class, target_names=[\"no ship (0)\", \"ship (1)\"]))\n",
    "print(f\"matthews: {matthews:.2g}\")"
   ]
  }
 ],
 "metadata": {
  "kernelspec": {
   "display_name": "Python 3 (ipykernel)",
   "language": "python",
   "name": "python3"
  },
  "language_info": {
   "codemirror_mode": {
    "name": "ipython",
    "version": 3
   },
   "file_extension": ".py",
   "mimetype": "text/x-python",
   "name": "python",
   "nbconvert_exporter": "python",
   "pygments_lexer": "ipython3",
   "version": "3.9.13"
  }
 },
 "nbformat": 4,
 "nbformat_minor": 5
}
