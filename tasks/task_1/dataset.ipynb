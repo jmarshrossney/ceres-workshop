{
 "cells": [
  {
   "cell_type": "markdown",
   "id": "a35480c9-918f-4c26-b737-bf3066bffd2d",
   "metadata": {},
   "source": [
    "# Investigating the dataset"
   ]
  },
  {
   "cell_type": "code",
   "execution_count": 1,
   "id": "2ff89559-8707-4e57-8cd1-fc76d290829b",
   "metadata": {},
   "outputs": [],
   "source": [
    "import matplotlib.pyplot as plt\n",
    "import numpy as np\n",
    "import pandas as pd\n",
    "\n",
    "from utils import load_data_from_json, array_to_rgb_image, array_to_rgb_histogram"
   ]
  },
  {
   "cell_type": "markdown",
   "id": "606a1ac5-63cc-4f7f-93bb-659b3b131e22",
   "metadata": {},
   "source": [
    "## Read in the raw data from JSON file\n",
    "\n",
    "Note that ``obj?`` is an IPython-specific syntax that is similar to ``help(obj)``"
   ]
  },
  {
   "cell_type": "code",
   "execution_count": null,
   "id": "5dffbb49-3888-4e58-914c-8ca328ddd531",
   "metadata": {},
   "outputs": [],
   "source": [
    "load_data_from_json?"
   ]
  },
  {
   "cell_type": "code",
   "execution_count": 3,
   "id": "0c596b38-2e78-4a15-87bd-a079f9c0c3a9",
   "metadata": {},
   "outputs": [],
   "source": [
    "RAW_DATA = load_data_from_json(data_dir = '.')\n",
    "dataframe = pd.DataFrame(RAW_DATA)"
   ]
  },
  {
   "cell_type": "markdown",
   "id": "adfd7615-f0b6-43f4-9688-17309bc71ba0",
   "metadata": {},
   "source": [
    "## Dataset structure and properties\n",
    "\n",
    "Use the cells below to investigate the structure and properties of the dataset."
   ]
  },
  {
   "cell_type": "code",
   "execution_count": null,
   "id": "7a4ee496-3874-4fd7-98c1-5dcf0e610adf",
   "metadata": {},
   "outputs": [],
   "source": [
    "dataframe.head()\n",
    "dataframe.dtypes"
   ]
  },
  {
   "cell_type": "markdown",
   "id": "2b2fdbc4-c661-4b5d-a66b-5eee73ae0521",
   "metadata": {},
   "source": [
    "## Sample images\n",
    "\n",
    "Use the cells below to display some of the images from the dataset, and histograms of their red/blue/green pixel intensities."
   ]
  },
  {
   "cell_type": "code",
   "execution_count": null,
   "id": "1b1475de-a505-4a01-9021-eac286d458c4",
   "metadata": {},
   "outputs": [],
   "source": [
    "array_to_rgb_image(np.reshape(dataframe.loc[1, 'data'],(3,-1,80)))\n",
    "#array_to_rgb_histogram?"
   ]
  },
  {
   "cell_type": "code",
   "execution_count": null,
   "id": "4b5cbe47-7710-45dd-b098-cc99c5cee1ea",
   "metadata": {},
   "outputs": [],
   "source": [
    "array_to_rgb_histogram(np.reshape(dataframe.loc[1, 'data'],(3,-1,80)))"
   ]
  },
  {
   "cell_type": "markdown",
   "id": "c32d9e10-13f2-4c72-b4fb-b75d4ba79c2e",
   "metadata": {},
   "source": [
    "## Visualisation of the dataset on a map\n",
    "\n",
    "Use the cells below to display a visualisation of the locations of the images on a map.\n",
    "\n",
    "**This is an extension task!**"
   ]
  },
  {
   "cell_type": "code",
   "execution_count": null,
   "id": "a1158b4b-fe5c-4277-80ae-7b2882175997",
   "metadata": {},
   "outputs": [],
   "source": [
    "locs = dataframe['locations'].tolist()\n",
    "x = [z[0] for z in locs]\n",
    "y = [z[1] for z in locs]\n",
    "plt.scatter(x,y)"
   ]
  },
  {
   "cell_type": "code",
   "execution_count": null,
   "id": "de7001fa-1cf3-4794-a1b8-7606c21596ac",
   "metadata": {},
   "outputs": [],
   "source": [
    "arrs = dataframe['data'].apply(lambda x: np.reshape(x, (3,-1,80)))\n",
    "arrays = np.stack(arrs, -1)"
   ]
  },
  {
   "cell_type": "code",
   "execution_count": null,
   "id": "ae4fd770-240c-471d-9578-2eb4c5c4ae99",
   "metadata": {},
   "outputs": [],
   "source": [
    "for a in pd.Series(dataframe.loc[dataframe['labels'] == 0].index).sample(5):\n",
    "    display(array_to_rgb_image(arrays[:,:,:,a]))"
   ]
  },
  {
   "cell_type": "code",
   "execution_count": 4,
   "id": "def48ab9-c7aa-44c4-813b-e548d06c89d3",
   "metadata": {},
   "outputs": [
    {
     "data": {
      "text/plain": [
       "1000"
      ]
     },
     "execution_count": 4,
     "metadata": {},
     "output_type": "execute_result"
    }
   ],
   "source": [
    "dataframe['labels'].sum()"
   ]
  }
 ],
 "metadata": {
  "kernelspec": {
   "display_name": "Python 3 (ipykernel)",
   "language": "python",
   "name": "python3"
  },
  "language_info": {
   "codemirror_mode": {
    "name": "ipython",
    "version": 3
   },
   "file_extension": ".py",
   "mimetype": "text/x-python",
   "name": "python",
   "nbconvert_exporter": "python",
   "pygments_lexer": "ipython3",
   "version": "3.9.13"
  }
 },
 "nbformat": 4,
 "nbformat_minor": 5
}
