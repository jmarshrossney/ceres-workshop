{
 "cells": [
  {
   "cell_type": "markdown",
   "id": "320c32ec-656f-4cb7-b719-1705b8d49292",
   "metadata": {},
   "source": [
    "# Multi-Layer Perceptron Binary Classifier using PyTorch"
   ]
  },
  {
   "cell_type": "code",
   "execution_count": 1,
   "id": "b787e114-fe04-4fe6-9f4b-ccdd25112aff",
   "metadata": {},
   "outputs": [],
   "source": [
    "from math import isclose\n",
    "from pathlib import Path\n",
    "from warnings import filterwarnings\n",
    "\n",
    "import matplotlib.pyplot as plt\n",
    "import torch\n",
    "from pytorch_lightning import Trainer\n",
    "from pytorch_lightning.callbacks import EarlyStopping, ModelCheckpoint\n",
    "from pytorch_lightning.loggers import TensorBoardLogger\n",
    "from pytorch_lightning.utilities.seed import seed_everything\n",
    "from pytorch_lightning.utilities.model_summary import summarize\n",
    "from pytorch_lightning.utilities.warnings import PossibleUserWarning\n",
    "\n",
    "\n",
    "from shipsnet.data import ShipsDataModule\n",
    "from shipsnet.models import MLPClassifier\n",
    "from shipsnet.viz import array_to_rgb_image\n",
    "\n",
    "filterwarnings(\"ignore\", category=PossibleUserWarning)"
   ]
  },
  {
   "cell_type": "markdown",
   "id": "57921110-4d6f-4cb7-be32-1f2af8fed8d4",
   "metadata": {},
   "source": [
    "# Train an ensemble of classifiers\n",
    "\n",
    "Use the two cells below to train an ensemble of MLP classifiers with different hidden shapes and activation functions."
   ]
  },
  {
   "cell_type": "code",
   "execution_count": 3,
   "id": "8e472c78-2857-4fb1-8d25-3927cbc25f24",
   "metadata": {},
   "outputs": [
    {
     "name": "stderr",
     "output_type": "stream",
     "text": [
      "Global seed set to 137399129\n"
     ]
    },
    {
     "ename": "KeyError",
     "evalue": "'ipython_dir'",
     "output_type": "error",
     "traceback": [
      "\u001b[0;31m---------------------------------------------------------------------------\u001b[0m",
      "\u001b[0;31mKeyError\u001b[0m                                  Traceback (most recent call last)",
      "Input \u001b[0;32mIn [3]\u001b[0m, in \u001b[0;36m<cell line: 14>\u001b[0;34m()\u001b[0m\n\u001b[1;32m      7\u001b[0m seed \u001b[38;5;241m=\u001b[39m seed_everything()\n\u001b[1;32m      9\u001b[0m model \u001b[38;5;241m=\u001b[39m MLPClassifier(\n\u001b[1;32m     10\u001b[0m     hidden_shape\u001b[38;5;241m=\u001b[39m[\u001b[38;5;241m20\u001b[39m],\n\u001b[1;32m     11\u001b[0m     activation\u001b[38;5;241m=\u001b[39m\u001b[38;5;124m\"\u001b[39m\u001b[38;5;124mrelu\u001b[39m\u001b[38;5;124m\"\u001b[39m,\n\u001b[1;32m     12\u001b[0m )\n\u001b[0;32m---> 14\u001b[0m \u001b[43mmodel\u001b[49m\u001b[38;5;241;43m.\u001b[39;49m\u001b[43msave_hyperparameters\u001b[49m\u001b[43m(\u001b[49m\u001b[43m{\u001b[49m\u001b[38;5;124;43m\"\u001b[39;49m\u001b[38;5;124;43mseed\u001b[39;49m\u001b[38;5;124;43m\"\u001b[39;49m\u001b[43m:\u001b[49m\u001b[43m \u001b[49m\u001b[43mseed\u001b[49m\u001b[43m,\u001b[49m\u001b[43m \u001b[49m\u001b[38;5;124;43m\"\u001b[39;49m\u001b[38;5;124;43mclass\u001b[39;49m\u001b[38;5;124;43m\"\u001b[39;49m\u001b[43m:\u001b[49m\u001b[43m \u001b[49m\u001b[38;5;124;43m\"\u001b[39;49m\u001b[38;5;124;43mMLPClassifier\u001b[39;49m\u001b[38;5;124;43m\"\u001b[39;49m\u001b[43m}\u001b[49m\u001b[43m)\u001b[49m\n\u001b[1;32m     15\u001b[0m summarize(model, max_depth\u001b[38;5;241m=\u001b[39m\u001b[38;5;241m2\u001b[39m)\n",
      "File \u001b[0;32m~/.miniconda3/envs/ceres-t3/lib/python3.9/site-packages/pytorch_lightning/core/mixins/hparams_mixin.py:107\u001b[0m, in \u001b[0;36mHyperparametersMixin.save_hyperparameters\u001b[0;34m(self, ignore, frame, logger, *args)\u001b[0m\n\u001b[1;32m    105\u001b[0m     \u001b[38;5;28;01mif\u001b[39;00m current_frame:\n\u001b[1;32m    106\u001b[0m         frame \u001b[38;5;241m=\u001b[39m current_frame\u001b[38;5;241m.\u001b[39mf_back\n\u001b[0;32m--> 107\u001b[0m \u001b[43msave_hyperparameters\u001b[49m\u001b[43m(\u001b[49m\u001b[38;5;28;43mself\u001b[39;49m\u001b[43m,\u001b[49m\u001b[43m \u001b[49m\u001b[38;5;241;43m*\u001b[39;49m\u001b[43margs\u001b[49m\u001b[43m,\u001b[49m\u001b[43m \u001b[49m\u001b[43mignore\u001b[49m\u001b[38;5;241;43m=\u001b[39;49m\u001b[43mignore\u001b[49m\u001b[43m,\u001b[49m\u001b[43m \u001b[49m\u001b[43mframe\u001b[49m\u001b[38;5;241;43m=\u001b[39;49m\u001b[43mframe\u001b[49m\u001b[43m)\u001b[49m\n",
      "File \u001b[0;32m~/.miniconda3/envs/ceres-t3/lib/python3.9/site-packages/pytorch_lightning/utilities/parsing.py:226\u001b[0m, in \u001b[0;36msave_hyperparameters\u001b[0;34m(obj, ignore, frame, *args)\u001b[0m\n\u001b[1;32m    224\u001b[0m \u001b[38;5;28;01melse\u001b[39;00m:\n\u001b[1;32m    225\u001b[0m     init_args \u001b[38;5;241m=\u001b[39m {}\n\u001b[0;32m--> 226\u001b[0m     \u001b[38;5;28;01mfor\u001b[39;00m local_args \u001b[38;5;129;01min\u001b[39;00m \u001b[43mcollect_init_args\u001b[49m\u001b[43m(\u001b[49m\u001b[43mframe\u001b[49m\u001b[43m,\u001b[49m\u001b[43m \u001b[49m\u001b[43m[\u001b[49m\u001b[43m]\u001b[49m\u001b[43m)\u001b[49m:\n\u001b[1;32m    227\u001b[0m         init_args\u001b[38;5;241m.\u001b[39mupdate(local_args)\n\u001b[1;32m    229\u001b[0m \u001b[38;5;28;01mif\u001b[39;00m ignore \u001b[38;5;129;01mis\u001b[39;00m \u001b[38;5;28;01mNone\u001b[39;00m:\n",
      "File \u001b[0;32m~/.miniconda3/envs/ceres-t3/lib/python3.9/site-packages/pytorch_lightning/utilities/parsing.py:188\u001b[0m, in \u001b[0;36mcollect_init_args\u001b[0;34m(frame, path_args, inside)\u001b[0m\n\u001b[1;32m    186\u001b[0m     \u001b[38;5;28;01mreturn\u001b[39;00m collect_init_args(frame\u001b[38;5;241m.\u001b[39mf_back, path_args, inside\u001b[38;5;241m=\u001b[39m\u001b[38;5;28;01mTrue\u001b[39;00m)\n\u001b[1;32m    187\u001b[0m \u001b[38;5;28;01mif\u001b[39;00m \u001b[38;5;129;01mnot\u001b[39;00m inside:\n\u001b[0;32m--> 188\u001b[0m     \u001b[38;5;28;01mreturn\u001b[39;00m \u001b[43mcollect_init_args\u001b[49m\u001b[43m(\u001b[49m\u001b[43mframe\u001b[49m\u001b[38;5;241;43m.\u001b[39;49m\u001b[43mf_back\u001b[49m\u001b[43m,\u001b[49m\u001b[43m \u001b[49m\u001b[43mpath_args\u001b[49m\u001b[43m,\u001b[49m\u001b[43m \u001b[49m\u001b[43minside\u001b[49m\u001b[43m)\u001b[49m\n\u001b[1;32m    189\u001b[0m \u001b[38;5;28;01mreturn\u001b[39;00m path_args\n",
      "File \u001b[0;32m~/.miniconda3/envs/ceres-t3/lib/python3.9/site-packages/pytorch_lightning/utilities/parsing.py:188\u001b[0m, in \u001b[0;36mcollect_init_args\u001b[0;34m(frame, path_args, inside)\u001b[0m\n\u001b[1;32m    186\u001b[0m     \u001b[38;5;28;01mreturn\u001b[39;00m collect_init_args(frame\u001b[38;5;241m.\u001b[39mf_back, path_args, inside\u001b[38;5;241m=\u001b[39m\u001b[38;5;28;01mTrue\u001b[39;00m)\n\u001b[1;32m    187\u001b[0m \u001b[38;5;28;01mif\u001b[39;00m \u001b[38;5;129;01mnot\u001b[39;00m inside:\n\u001b[0;32m--> 188\u001b[0m     \u001b[38;5;28;01mreturn\u001b[39;00m \u001b[43mcollect_init_args\u001b[49m\u001b[43m(\u001b[49m\u001b[43mframe\u001b[49m\u001b[38;5;241;43m.\u001b[39;49m\u001b[43mf_back\u001b[49m\u001b[43m,\u001b[49m\u001b[43m \u001b[49m\u001b[43mpath_args\u001b[49m\u001b[43m,\u001b[49m\u001b[43m \u001b[49m\u001b[43minside\u001b[49m\u001b[43m)\u001b[49m\n\u001b[1;32m    189\u001b[0m \u001b[38;5;28;01mreturn\u001b[39;00m path_args\n",
      "    \u001b[0;31m[... skipping similar frames: collect_init_args at line 188 (4 times)]\u001b[0m\n",
      "File \u001b[0;32m~/.miniconda3/envs/ceres-t3/lib/python3.9/site-packages/pytorch_lightning/utilities/parsing.py:188\u001b[0m, in \u001b[0;36mcollect_init_args\u001b[0;34m(frame, path_args, inside)\u001b[0m\n\u001b[1;32m    186\u001b[0m     \u001b[38;5;28;01mreturn\u001b[39;00m collect_init_args(frame\u001b[38;5;241m.\u001b[39mf_back, path_args, inside\u001b[38;5;241m=\u001b[39m\u001b[38;5;28;01mTrue\u001b[39;00m)\n\u001b[1;32m    187\u001b[0m \u001b[38;5;28;01mif\u001b[39;00m \u001b[38;5;129;01mnot\u001b[39;00m inside:\n\u001b[0;32m--> 188\u001b[0m     \u001b[38;5;28;01mreturn\u001b[39;00m \u001b[43mcollect_init_args\u001b[49m\u001b[43m(\u001b[49m\u001b[43mframe\u001b[49m\u001b[38;5;241;43m.\u001b[39;49m\u001b[43mf_back\u001b[49m\u001b[43m,\u001b[49m\u001b[43m \u001b[49m\u001b[43mpath_args\u001b[49m\u001b[43m,\u001b[49m\u001b[43m \u001b[49m\u001b[43minside\u001b[49m\u001b[43m)\u001b[49m\n\u001b[1;32m    189\u001b[0m \u001b[38;5;28;01mreturn\u001b[39;00m path_args\n",
      "File \u001b[0;32m~/.miniconda3/envs/ceres-t3/lib/python3.9/site-packages/pytorch_lightning/utilities/parsing.py:183\u001b[0m, in \u001b[0;36mcollect_init_args\u001b[0;34m(frame, path_args, inside)\u001b[0m\n\u001b[1;32m    180\u001b[0m     \u001b[38;5;28;01mreturn\u001b[39;00m path_args\n\u001b[1;32m    182\u001b[0m \u001b[38;5;28;01mif\u001b[39;00m \u001b[38;5;124m\"\u001b[39m\u001b[38;5;124m__class__\u001b[39m\u001b[38;5;124m\"\u001b[39m \u001b[38;5;129;01min\u001b[39;00m local_vars:\n\u001b[0;32m--> 183\u001b[0m     local_args \u001b[38;5;241m=\u001b[39m \u001b[43mget_init_args\u001b[49m\u001b[43m(\u001b[49m\u001b[43mframe\u001b[49m\u001b[43m)\u001b[49m\n\u001b[1;32m    184\u001b[0m     \u001b[38;5;66;03m# recursive update\u001b[39;00m\n\u001b[1;32m    185\u001b[0m     path_args\u001b[38;5;241m.\u001b[39mappend(local_args)\n",
      "File \u001b[0;32m~/.miniconda3/envs/ceres-t3/lib/python3.9/site-packages/pytorch_lightning/utilities/parsing.py:154\u001b[0m, in \u001b[0;36mget_init_args\u001b[0;34m(frame)\u001b[0m\n\u001b[1;32m    152\u001b[0m exclude_argnames \u001b[38;5;241m=\u001b[39m (\u001b[38;5;241m*\u001b[39mfiltered_vars, \u001b[38;5;124m\"\u001b[39m\u001b[38;5;124m__class__\u001b[39m\u001b[38;5;124m\"\u001b[39m, \u001b[38;5;124m\"\u001b[39m\u001b[38;5;124mframe\u001b[39m\u001b[38;5;124m\"\u001b[39m, \u001b[38;5;124m\"\u001b[39m\u001b[38;5;124mframe_args\u001b[39m\u001b[38;5;124m\"\u001b[39m)\n\u001b[1;32m    153\u001b[0m \u001b[38;5;66;03m# only collect variables that appear in the signature\u001b[39;00m\n\u001b[0;32m--> 154\u001b[0m local_args \u001b[38;5;241m=\u001b[39m {k: local_vars[k] \u001b[38;5;28;01mfor\u001b[39;00m k \u001b[38;5;129;01min\u001b[39;00m init_parameters\u001b[38;5;241m.\u001b[39mkeys()}\n\u001b[1;32m    155\u001b[0m \u001b[38;5;66;03m# kwargs_var might be None => raised an error by mypy\u001b[39;00m\n\u001b[1;32m    156\u001b[0m \u001b[38;5;28;01mif\u001b[39;00m kwargs_var:\n",
      "File \u001b[0;32m~/.miniconda3/envs/ceres-t3/lib/python3.9/site-packages/pytorch_lightning/utilities/parsing.py:154\u001b[0m, in \u001b[0;36m<dictcomp>\u001b[0;34m(.0)\u001b[0m\n\u001b[1;32m    152\u001b[0m exclude_argnames \u001b[38;5;241m=\u001b[39m (\u001b[38;5;241m*\u001b[39mfiltered_vars, \u001b[38;5;124m\"\u001b[39m\u001b[38;5;124m__class__\u001b[39m\u001b[38;5;124m\"\u001b[39m, \u001b[38;5;124m\"\u001b[39m\u001b[38;5;124mframe\u001b[39m\u001b[38;5;124m\"\u001b[39m, \u001b[38;5;124m\"\u001b[39m\u001b[38;5;124mframe_args\u001b[39m\u001b[38;5;124m\"\u001b[39m)\n\u001b[1;32m    153\u001b[0m \u001b[38;5;66;03m# only collect variables that appear in the signature\u001b[39;00m\n\u001b[0;32m--> 154\u001b[0m local_args \u001b[38;5;241m=\u001b[39m {k: \u001b[43mlocal_vars\u001b[49m\u001b[43m[\u001b[49m\u001b[43mk\u001b[49m\u001b[43m]\u001b[49m \u001b[38;5;28;01mfor\u001b[39;00m k \u001b[38;5;129;01min\u001b[39;00m init_parameters\u001b[38;5;241m.\u001b[39mkeys()}\n\u001b[1;32m    155\u001b[0m \u001b[38;5;66;03m# kwargs_var might be None => raised an error by mypy\u001b[39;00m\n\u001b[1;32m    156\u001b[0m \u001b[38;5;28;01mif\u001b[39;00m kwargs_var:\n",
      "\u001b[0;31mKeyError\u001b[0m: 'ipython_dir'"
     ]
    }
   ],
   "source": [
    "datamodule = ShipsDataModule(\n",
    "    batch_size=32,\n",
    "    train_frac=0.75,\n",
    "    random_split_seed=12345,\n",
    ")\n",
    "\n",
    "seed = seed_everything()\n",
    "\n",
    "model = MLPClassifier(\n",
    "    hidden_shape=[20],\n",
    "    activation=\"relu\",\n",
    ")\n",
    "\n",
    "model.save_hyperparameters({\"seed\": seed})\n",
    "summarize(model, max_depth=2)"
   ]
  },
  {
   "cell_type": "code",
   "execution_count": null,
   "id": "058aca64-814c-4840-9f1e-851ca4e4f7b1",
   "metadata": {},
   "outputs": [],
   "source": [
    "early_stopping = EarlyStopping(monitor=\"val/loss\", patience=5, verbose=True)\n",
    "checkpoints = ModelCheckpoint(monitor=\"val/loss\", filename=\"{epoch:d}\")\n",
    "\n",
    "trainer = Trainer(\n",
    "    logger=TensorBoardLogger(\".\", default_hp_metric=False),\n",
    "    callbacks=[early_stopping, checkpoints],\n",
    "    enable_model_summary=False,\n",
    ")\n",
    "trainer.fit(model, datamodule)\n",
    "\n",
    "# So we can easily see where to load the checkpoint from later\n",
    "model.logger.experiment.add_text(\n",
    "    \"checkpoint_path\", str(Path(checkpoints.best_model_path).resolve())\n",
    ")\n"
   ]
  },
  {
   "cell_type": "markdown",
   "id": "a4b3d13f-1bda-4d41-96b9-934825bf9f44",
   "metadata": {
    "tags": []
   },
   "source": [
    "# Evaluate the best model\n",
    "\n",
    "Use Tensorboard to compare different models. When you've found the best model, load it up and run it on the test set."
   ]
  },
  {
   "cell_type": "code",
   "execution_count": null,
   "id": "493bb5e4-fbbb-420d-b11c-d50c84770a8f",
   "metadata": {},
   "outputs": [],
   "source": [
    "%load_ext tensorboard\n",
    "%tensorboard --logdir lightning_logs"
   ]
  },
  {
   "cell_type": "code",
   "execution_count": null,
   "id": "fbb42ffb-8fb9-4239-aa7b-d21dcde00125",
   "metadata": {},
   "outputs": [],
   "source": []
  }
 ],
 "metadata": {
  "kernelspec": {
   "display_name": "Python 3 (ipykernel)",
   "language": "python",
   "name": "python3"
  },
  "language_info": {
   "codemirror_mode": {
    "name": "ipython",
    "version": 3
   },
   "file_extension": ".py",
   "mimetype": "text/x-python",
   "name": "python",
   "nbconvert_exporter": "python",
   "pygments_lexer": "ipython3",
   "version": "3.9.13"
  },
  "toc-autonumbering": false,
  "toc-showcode": false,
  "toc-showmarkdowntxt": false,
  "toc-showtags": false
 },
 "nbformat": 4,
 "nbformat_minor": 5
}
