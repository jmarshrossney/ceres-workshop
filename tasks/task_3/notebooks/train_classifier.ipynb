{
 "cells": [
  {
   "cell_type": "markdown",
   "id": "320c32ec-656f-4cb7-b719-1705b8d49292",
   "metadata": {},
   "source": [
    "# Multi-Layer Perceptron Binary Classifier using PyTorch"
   ]
  },
  {
   "cell_type": "code",
   "execution_count": null,
   "id": "b787e114-fe04-4fe6-9f4b-ccdd25112aff",
   "metadata": {},
   "outputs": [],
   "source": [
    "from math import isclose\n",
    "from pathlib import Path\n",
    "from warnings import filterwarnings\n",
    "\n",
    "import matplotlib.pyplot as plt\n",
    "import torch\n",
    "from pytorch_lightning import Trainer\n",
    "from pytorch_lightning.callbacks import EarlyStopping, ModelCheckpoint\n",
    "from pytorch_lightning.loggers import TensorBoardLogger\n",
    "from pytorch_lightning.utilities.seed import seed_everything\n",
    "from pytorch_lightning.utilities.model_summary import summarize\n",
    "from pytorch_lightning.utilities.warnings import PossibleUserWarning\n",
    "\n",
    "\n",
    "from shipsnet.data import ShipsDataModule\n",
    "from shipsnet.models import MLPClassifier\n",
    "from shipsnet.viz import array_to_rgb_image\n",
    "\n",
    "filterwarnings(\"ignore\", category=PossibleUserWarning)"
   ]
  },
  {
   "cell_type": "markdown",
   "id": "57921110-4d6f-4cb7-be32-1f2af8fed8d4",
   "metadata": {},
   "source": [
    "# Train an ensemble of classifiers\n",
    "\n",
    "Use the two cells below to train an ensemble of MLP classifiers with different hidden shapes and activation functions."
   ]
  },
  {
   "cell_type": "code",
   "execution_count": null,
   "id": "8e472c78-2857-4fb1-8d25-3927cbc25f24",
   "metadata": {},
   "outputs": [],
   "source": [
    "datamodule = ShipsDataModule(\n",
    "    batch_size=32,\n",
    "    train_frac=0.75,\n",
    "    random_split_seed=12345,\n",
    ")\n",
    "\n",
    "seed = seed_everything()\n",
    "\n",
    "model = MLPClassifier(\n",
    "    hidden_shape=[20],\n",
    "    activation=\"relu\",\n",
    ")\n",
    "\n",
    "# This seems to be broken on older PyTorch Lightning installs\n",
    "#model.save_hyperparameters({\"seed\": seed})\n",
    "summarize(model, max_depth=2)"
   ]
  },
  {
   "cell_type": "code",
   "execution_count": null,
   "id": "058aca64-814c-4840-9f1e-851ca4e4f7b1",
   "metadata": {},
   "outputs": [],
   "source": [
    "early_stopping = EarlyStopping(monitor=\"val/loss\", patience=5, verbose=True)\n",
    "checkpoints = ModelCheckpoint(monitor=\"val/loss\", filename=\"{epoch:d}\")\n",
    "\n",
    "trainer = Trainer(\n",
    "    logger=TensorBoardLogger(\".\", default_hp_metric=False),\n",
    "    callbacks=[early_stopping, checkpoints],\n",
    "    enable_model_summary=False,\n",
    ")\n",
    "trainer.fit(model, datamodule)\n",
    "\n",
    "# So we can easily see where to load the checkpoint from later\n",
    "model.logger.experiment.add_text(\n",
    "    \"checkpoint_path\", str(Path(checkpoints.best_model_path).resolve())\n",
    ")\n"
   ]
  },
  {
   "cell_type": "markdown",
   "id": "a4b3d13f-1bda-4d41-96b9-934825bf9f44",
   "metadata": {
    "tags": []
   },
   "source": [
    "# Evaluate the best model\n",
    "\n",
    "Use Tensorboard to compare different models. When you've found the best model, load it up and run it on the test set."
   ]
  },
  {
   "cell_type": "code",
   "execution_count": null,
   "id": "493bb5e4-fbbb-420d-b11c-d50c84770a8f",
   "metadata": {},
   "outputs": [],
   "source": [
    "%load_ext tensorboard\n",
    "%tensorboard --logdir lightning_logs"
   ]
  },
  {
   "cell_type": "code",
   "execution_count": null,
   "id": "fbb42ffb-8fb9-4239-aa7b-d21dcde00125",
   "metadata": {},
   "outputs": [],
   "source": []
  }
 ],
 "metadata": {
  "kernelspec": {
   "display_name": "Python 3 (ipykernel)",
   "language": "python",
   "name": "python3"
  },
  "language_info": {
   "codemirror_mode": {
    "name": "ipython",
    "version": 3
   },
   "file_extension": ".py",
   "mimetype": "text/x-python",
   "name": "python",
   "nbconvert_exporter": "python",
   "pygments_lexer": "ipython3",
   "version": "3.9.13"
  },
  "toc-autonumbering": false,
  "toc-showcode": false,
  "toc-showmarkdowntxt": false,
  "toc-showtags": false
 },
 "nbformat": 4,
 "nbformat_minor": 5
}
