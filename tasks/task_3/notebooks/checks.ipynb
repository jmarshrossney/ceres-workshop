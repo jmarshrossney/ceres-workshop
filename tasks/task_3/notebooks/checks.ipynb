{
 "cells": [
  {
   "cell_type": "markdown",
   "id": "967a9f61-043f-4a17-8590-0431b763527f",
   "metadata": {},
   "source": [
    "# Sanity checks"
   ]
  },
  {
   "cell_type": "code",
   "execution_count": null,
   "id": "d2dd53e9-c592-4478-8a48-8dcb2b6547d3",
   "metadata": {},
   "outputs": [],
   "source": [
    "from math import isclose\n",
    "from pathlib import Path\n",
    "from warnings import filterwarnings\n",
    "\n",
    "import matplotlib.pyplot as plt\n",
    "import torch\n",
    "from pytorch_lightning import Trainer\n",
    "from pytorch_lightning.utilities.seed import seed_everything\n",
    "from pytorch_lightning.utilities.warnings import PossibleUserWarning\n",
    "\n",
    "from shipsnet.data import ShipsDataModule\n",
    "from shipsnet.models import MLPClassifier\n",
    "from shipsnet.viz import array_to_rgb_image\n",
    "\n",
    "filterwarnings(\"ignore\", category=PossibleUserWarning)"
   ]
  },
  {
   "cell_type": "markdown",
   "id": "f2df015a-4d00-4302-869c-a2e1309833a2",
   "metadata": {},
   "source": [
    "## Check the data is being loaded correctly"
   ]
  },
  {
   "cell_type": "code",
   "execution_count": null,
   "id": "6c9d2cc9-0c9c-4d37-9636-b738bdab20fe",
   "metadata": {},
   "outputs": [],
   "source": [
    "datamodule = ShipsDataModule()\n",
    "\n",
    "datamodule.prepare_data()\n",
    "datamodule.setup()\n",
    "\n",
    "inputs, labels = next(iter(datamodule.train_dataloader()))\n",
    "\n",
    "fig, axes = plt.subplots(3, 4)\n",
    "\n",
    "for tensor, ax in zip(inputs, axes.flatten()):\n",
    "    \n",
    "    # You may need to undo the data standardisation transformation here...\n",
    "    \n",
    "    ax.imshow(array_to_rgb_image(tensor))\n",
    "    ax.set_axis_off()\n",
    "\n",
    "fig.tight_layout()\n",
    "plt.show()"
   ]
  },
  {
   "cell_type": "markdown",
   "id": "06356169-4f7c-41ae-bced-b6d096d0899f",
   "metadata": {},
   "source": [
    "## Reproducibility check"
   ]
  },
  {
   "cell_type": "code",
   "execution_count": null,
   "id": "122b370e-f6b6-47f1-8150-5578b033785d",
   "metadata": {},
   "outputs": [],
   "source": [
    "def train_and_eval():\n",
    "    \"\"\"Quickly trains model and returns validation metrics.\"\"\"\n",
    "    datamodule = ShipsDataModule()\n",
    "    model = MLPClassifier([10], \"relu\")\n",
    "    trainer = Trainer(\n",
    "        max_epochs=5,\n",
    "        logger=False,\n",
    "        enable_checkpointing=False,\n",
    "        enable_model_summary=False,\n",
    "        enable_progress_bar=False,\n",
    "    )\n",
    "    trainer.fit(model, datamodule)\n",
    "    (metrics,) = trainer.validate(model, datamodule)\n",
    "    return metrics\n",
    "\n",
    "\n",
    "seed = seed_everything()\n",
    "\n",
    "metrics_1 = train_and_eval()\n",
    "\n",
    "# Reset the seed and retrain - should get same results\n",
    "seed_everything(seed)\n",
    "metrics_2 = train_and_eval()\n",
    "assert all([isclose(metrics_1[k], metrics_2[k]) for k in metrics_1])\n",
    "\n",
    "# Don't reset the seed - should get different results\n",
    "metrics_3 = train_and_eval()\n",
    "assert not all([isclose(metrics_1[k], metrics_3[k]) for k in metrics_1])\n",
    "\n",
    "print(\"Reproducibility check passed!\")"
   ]
  },
  {
   "cell_type": "code",
   "execution_count": null,
   "id": "7a989696-b4b8-4264-b4a9-c7f5f453b389",
   "metadata": {},
   "outputs": [],
   "source": []
  }
 ],
 "metadata": {
  "kernelspec": {
   "display_name": "Python 3 (ipykernel)",
   "language": "python",
   "name": "python3"
  },
  "language_info": {
   "codemirror_mode": {
    "name": "ipython",
    "version": 3
   },
   "file_extension": ".py",
   "mimetype": "text/x-python",
   "name": "python",
   "nbconvert_exporter": "python",
   "pygments_lexer": "ipython3",
   "version": "3.9.13"
  }
 },
 "nbformat": 4,
 "nbformat_minor": 5
}
