{
 "cells": [
  {
   "cell_type": "markdown",
   "id": "73e78e10-e3f5-4360-a90d-5015430244e0",
   "metadata": {},
   "source": [
    "# Testing the best model"
   ]
  },
  {
   "cell_type": "code",
   "execution_count": null,
   "id": "c9892929-cbc4-4def-96bf-08eb857b14e7",
   "metadata": {},
   "outputs": [],
   "source": [
    "from pathlib import Path\n",
    "\n",
    "import matplotlib.pyplot as plt\n",
    "import torch\n",
    "from pytorch_lightning import Trainer\n",
    "from pytorch_lightning.callbacks import EarlyStopping, ModelCheckpoint\n",
    "from pytorch_lightning.loggers import TensorBoardLogger\n",
    "from pytorch_lightning.utilities.seed import seed_everything\n",
    "from pytorch_lightning.utilities.model_summary import summarize\n",
    "from pytorch_lightning.utilities.warnings import PossibleUserWarning\n",
    "\n",
    "\n",
    "from shipsnet.data import ShipsDataModule\n",
    "from shipsnet.models import MLPClassifier\n",
    "from shipsnet.viz import array_to_rgb_image"
   ]
  },
  {
   "cell_type": "code",
   "execution_count": null,
   "id": "c85585b6-1ee4-42d2-b21c-2452d83fd55e",
   "metadata": {},
   "outputs": [],
   "source": [
    "# change this to the path to the checkpoint of the best model\n",
    "best_model_path = None \n",
    "\n",
    "# change this if your best model is a different class\n",
    "ModelClass = MLPClassifier\n",
    "\n",
    "# adjust these parameters to match the \n",
    "datamodule = ShipsDataModule(\n",
    "    batch_size=32,\n",
    "    train_frac=0.75,\n",
    "    random_split_seed=12345,\n",
    ")\n"
   ]
  },
  {
   "cell_type": "code",
   "execution_count": null,
   "id": "18bf862c-923d-4d7e-a21f-33f374e54f4a",
   "metadata": {},
   "outputs": [],
   "source": [
    "# Loads most recent if best_model_path is not specified\n",
    "best_model = ModelClass.load_from_checkpoint(best_model_path)\n",
    "\n",
    "# Create a dummy trainer just to evaluate the model\n",
    "(test_metrics,) = Trainer(logger=False).test(best_model, datamodule)"
   ]
  }
 ],
 "metadata": {
  "kernelspec": {
   "display_name": "Python 3 (ipykernel)",
   "language": "python",
   "name": "python3"
  },
  "language_info": {
   "codemirror_mode": {
    "name": "ipython",
    "version": 3
   },
   "file_extension": ".py",
   "mimetype": "text/x-python",
   "name": "python",
   "nbconvert_exporter": "python",
   "pygments_lexer": "ipython3",
   "version": "3.9.13"
  }
 },
 "nbformat": 4,
 "nbformat_minor": 5
}
